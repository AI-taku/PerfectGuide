{
 "cells": [
  {
   "cell_type": "markdown",
   "metadata": {},
   "source": [
    "<h1> 차원의 저주 </h1><br>\n",
    "\n",
    "데이터가 희소화되면 머신러닝 알고리즘이 성능 효율이 떨어지게 됨.\n",
    "\n",
    "다차원 문제에 의한 일반적인 문제다. 요즘엔 머신러닝 알고리즘도 많이 발전을 했다. 그래서 수백개의 피쳐 정도는 커버를 할 수 있는 알고리즘들이 많이 발전하긴 했다.\n",
    "\n",
    "<img src =\"./img/DimensionReduction.png\"/>"
   ]
  },
  {
   "cell_type": "markdown",
   "metadata": {},
   "source": [
    "<h2>차원 축소의 장점</h2><br>\n",
    "\n",
    "불필요한 피쳐들을 줄여서 성능 향상에 기여(할 수 도 있다)\n",
    "\n",
    "2차원, 3차원으로 시각화 할 수 있는 차원으로 변환을 하면 데이터 패턴 인지하기가 쉽다.\n",
    "\n",
    "차원 축소의 가장 큰 퀘스쳔은\n",
    "\n",
    "<span style = \"Color: red\"><b>어떻게 하면 원본 데이터의 정보를 최대한으로 유지한 채로 차원 축소를 수행할 것인가?</b></span>\n",
    "\n",
    "<img src =\"./img/DimensionReductionPositive.png\"/>"
   ]
  },
  {
   "cell_type": "markdown",
   "metadata": {},
   "source": [
    "<h2>피처 선택과 피처 추출</h2><br>\n",
    "\n",
    "피쳐 선택은 우등생 피쳐만 선택하는 것.\n",
    "\n",
    "피쳐 추출은 기존 피쳐들의 특징을 잘 반영해서 새로운 피쳐를 만들어 내는 것.\n",
    "\n",
    "<img src=\"./img/FeatureSelection.png\"/>"
   ]
  },
  {
   "cell_type": "markdown",
   "metadata": {},
   "source": [
    "<h2>피처 추출(Feature Extraction)</h2><br>\n",
    "\n",
    "차원 축소는 피쳐 셀렉션보다 피쳐 추출에 특히나 연관 효과들이 굉장히 크다. 피쳐 추출을 가지고 굉장히 많은 것을 할 수 있다.\n",
    "\n",
    "피쳐안에 잠재되어있던 특성들을 추출해서 저차원으로 만드는 것.\n",
    "\n",
    "가령 학생의 능력을 평가할때, 모의고사, 대외활동 수상경력들을 본다면 이것들을 좀더 요약해서 낮은 차원으로 추출해보자면\n",
    "\n",
    "학업성취도, 커뮤니케이션, 문제해결능력등이 있을 것임. 이런 느낌. latent\n",
    "\n",
    "<img src=\"./img/FeatureExtraction.png\"/>"
   ]
  },
  {
   "cell_type": "markdown",
   "metadata": {},
   "source": [
    "<h2>차원 축소의 의미</h2><br>\n",
    "\n",
    "잠재적인(latent)인 요소.\n",
    "\n",
    "활용분야는 아래와 같다.\n",
    "\n",
    "(이미지 분류 및 변환은 CNN이 나오기 이전의 얘기이긴 함)\n",
    "\n",
    "<img src=\"./img/MeaningOfDimensionReduction.png\"/>"
   ]
  },
  {
   "cell_type": "markdown",
   "metadata": {},
   "source": []
  }
 ],
 "metadata": {
  "kernelspec": {
   "display_name": "Python 3",
   "language": "python",
   "name": "python3"
  },
  "language_info": {
   "codemirror_mode": {
    "name": "ipython",
    "version": 3
   },
   "file_extension": ".py",
   "mimetype": "text/x-python",
   "name": "python",
   "nbconvert_exporter": "python",
   "pygments_lexer": "ipython3",
   "version": "3.7.1"
  }
 },
 "nbformat": 4,
 "nbformat_minor": 4
}
