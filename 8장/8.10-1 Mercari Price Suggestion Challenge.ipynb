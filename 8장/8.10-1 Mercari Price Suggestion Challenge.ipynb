{
 "cells": [
  {
   "cell_type": "markdown",
   "metadata": {},
   "source": [
    "<h1>Mercari Price Suggestion Challenge</h1>"
   ]
  },
  {
   "cell_type": "markdown",
   "metadata": {},
   "source": [
    "캐글 경연대회. \n",
    "\n",
    "상품 설명이나 피쳐들만 보고도 상품 가격을 예측할 수 있는 모델을 만들어 달라는 것.\n",
    "\n",
    "**제품가격을 예측하는 회귀 모델**\n",
    "\n",
    "이 피쳐들을 잘 조합해서 제품 가격을 예측하는 모델을 만드는 것.\n",
    "\n",
    "텍스트성 데이터들이 많다.\n",
    "\n",
    "**카테고리명**이나 **브랜드명**은 코드값으로 가는게 맞고.\n",
    "\n",
    "**제품명**이나 **제품에 대한 설명**은 코드값으로 만들 수 없다.(제품이 너무 많고 다양함)\n",
    "\n",
    "결국 텍스트 칼럼들을 피쳐 벡터화하는 것임. \n",
    "\n",
    "그리고 나머지 컬럼들을 인코딩을 할 것임(원핫인코딩으로)\n",
    "\n",
    "이 두개의 데이터 셋을 결합을 해서 머신러닝이 학습할 수 있는 데이터 셋을 만드는 것.\n",
    "\n",
    "![](img/Mercarri_Model.jpg)"
   ]
  },
  {
   "cell_type": "markdown",
   "metadata": {},
   "source": [
    "<h2>Mercari Price Suggestion 모델 구성</h2>\n",
    "\n",
    "CountVectorizer를 name에 적용할 것이고, TfidVectorizer는 Item_description을 할 것임.\n",
    "\n",
    "이게 반환되는게 희소행렬인데\n",
    "\n",
    "기존에 있는 일반 칼럼들은 원핫인코딩을 하게 되면, 얘는 Dense다. 무슨 말이냐면 그냥 ndarray, 넘파이에 되게 때문에, 이 값들을 전부다 희소행렬로 바꿀거다. 어떻게 바꿀거냐면, 사이킷런에 원핫인코딩 만들 때 LabelBinarizer를 이용할 것임.\n",
    "\n",
    "이전에는 원핫인코딩 만들 때 레이블 인코딩을 하고 원핫인코딩을 돌렸었는데, \n",
    "\n",
    "이 LabelBinarizer를 하면 한방에 원핫인코딩을 만들어준다. 근데 옵션이 있는데\n",
    "\n",
    "sparse 행렬로 바꿔줄 수 있는 옵션이 있다. sparse_output이라는게 있음.\n",
    "\n",
    "그 다음에 이 두개를 결합할 것이다. 그리고 최종적으로 데이터세트가 만들어졌으면\n",
    "\n",
    "최종적으로 만들어진 데이터셋에다가 선형 알고리즘을 쓸 것 임.\n",
    "\n",
    "근데 회귀 트리가 원래 희소한 데이터셋에 잘 안먹히는데, LGBM이 이 모델에선 잘나온다.\n",
    "\n",
    "그래서 LGBM로 할 것임.\n",
    "\n",
    "<img src=\"img/Mercarri_Model1.jpg\"/>"
   ]
  },
  {
   "cell_type": "markdown",
   "metadata": {},
   "source": [
    "<h1> Google Colaboratory 사용하기</h1>\n",
    "\n",
    "그리고 이번에는 데이터세트가 좀 크다. 그리고 큰 것도 이슈지만 뭐가 더 이슈냐면\n",
    "\n",
    "위에 것들을 희소행렬이나 카운터벡터라이즈로 만들면 사이즈가 확 늘어버리게 되어있따.\n",
    "\n",
    "그리고 이것을 결합까지 하니 사이즈가 많이 늘어난다. 만약 로컬로 사용하는 컴퓨터가\n",
    "\n",
    "8g 이하의 메모리를 가지고 있다면 애매하다. Colab이라고 많이 줄여서 얘기하는데\n",
    "\n",
    "구글에서 은총을 베푼 것임. 가상 컨테이너를 제공해준다. \n",
    "\n",
    "구글 클라우드에 가상의 컨테이너를 하나 제공을 해줘서 \n",
    "\n",
    "거기를 개인별로 하나씩 쓸 수 있는데 GPU도 된다.\n",
    "\n",
    "\n",
    "중요한 것은 Colab이 주피터 노트북과 매우 유사한 환경을 제공한다. \n",
    "\n",
    "그래서 그냥 주피터 노트북에 쓰는 방식으로 쓰면 된다. \n",
    "\n",
    "근데 이거 가상 컨테이너이다보니까 직접적으로 OS를 붙일 수는 없다. \n",
    "\n",
    "그럼 파일은 어떻게 하느냐, \n",
    "\n",
    "개인 계정의 구글 드라이브를 통해 데이터 파일을 Colab에서 접근을 한다. \n",
    "\n",
    "<img src=\"img/Google_Colaboratory1.jpg\"/>"
   ]
  },
  {
   "cell_type": "markdown",
   "metadata": {},
   "source": [
    "Colab도 클라우드고 구글 클라우드도 클라우드이므로 인증 및 네트웤 디렉토리 마운트를 해야 한다."
   ]
  }
 ],
 "metadata": {
  "kernelspec": {
   "display_name": "Python 3",
   "language": "python",
   "name": "python3"
  },
  "language_info": {
   "codemirror_mode": {
    "name": "ipython",
    "version": 3
   },
   "file_extension": ".py",
   "mimetype": "text/x-python",
   "name": "python",
   "nbconvert_exporter": "python",
   "pygments_lexer": "ipython3",
   "version": "3.7.1"
  }
 },
 "nbformat": 4,
 "nbformat_minor": 4
}
