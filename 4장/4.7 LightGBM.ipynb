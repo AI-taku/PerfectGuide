{
 "cells": [
  {
   "cell_type": "markdown",
   "metadata": {},
   "source": [
    "<h1> LightGBM 개요 </h1>  \n",
    "\n",
    "XGBoost가 많이 알려지고 많이 사용된 이후에 마이크로소프트에서 좀더 강화해서 만든 것임.(단점등 기능들을 개선)  \n",
    "대표적으로는 XGBoost 대비 더 빠른 학습, 더 적은 메모리 사용. 병렬을 시키면 XGBoost가 더 빠르다는 말도 있기도 함.  \n",
    "\n",
    "\n",
    "![LightGBM](img/lightGBM.png)\n",
    "\n",
    "\n",
    "<h1> LightGBM 트리 분할 방식 - 리프 중심 </h1>  \n",
    "\n",
    "기본적으로 XGBoost를 포함한 GBM 계열은 균형잡힌 트리를 만든다. depth를 최소화하기 위함임. depth가 길어지면 한쪽 노드 방향으로 계속 생기다보면 균형 트리 분할(Level Wise)는 오버피팅 될 가능성이 있다는 이론이 있어서 그렇다.  \n",
    "\n",
    "리프 중심 트리 분할(Leaf Wise)는 그렇지 않다. 분할을 할 때 예측 오류를 가장 줄여줄 수 있는 분명한 방향성이 있는 노드에 리프 노드를 계속 생성하면 좀 더 정확한 결과를 내 줄 수 있겠다는 방향성을 가지고 한다면 오류를 줄여줄 수 있다. 그렇기 때문에 리프 중심으로 트리를 분할해도 더 향상된 예측이 가능하다는 것이 LightGBM의 주장.\n",
    "\n",
    "![LightGBMtree](img/lightGBMtree.png)\n",
    "\n",
    "\n",
    "<h1> LightGBM 파이썬 구현 </h1>  \n",
    "\n",
    "XGBoost와 동일하다. 마이크로소프트가 이런 오픈소스쪽에 훌륭한 모델들을 제공하는 방향성이 많이 좋아짐.  \n",
    "\n",
    "\n",
    "![PyLightGBM](img/PylightGBMtree.png)\n",
    "\n",
    "\n",
    "<h1> LightGBM 하이퍼 파라미터 </h1> \n",
    "\n",
    "트리 기반의 앙상블 메소드들은 하이퍼 파라미터가 되게 많다.  \n",
    "그런데 이게 파이썬 래퍼로 된 모듈, 사이킷런 래퍼로 된 모듈이 따로 있기 때문에 더 헷갈림.  \n",
    "그래서 규칙이 뭐냐면  \n",
    "만약에 LightGBM 사이킷런 래퍼가 XGBoost보다 늦게 나왔으니까 만약에 XGBoost 사이킷런 래퍼에 기능과 같은게 있으면 그대로 사용 됨.  \n",
    "그렇지 않으면 파이썬 래퍼 LightGBM 하이퍼 파라미터를 사용.\n",
    "\n",
    "![warpperParam1](img/warpperParam1.png)\n",
    "![warpperParam2](img/warpperParam2.png)\n",
    "\n",
    "<h1> 파이썬 래퍼와 사이킷런 래퍼 하이퍼 파라미터 비교</h1>  \n",
    "\n",
    "기준은 뭐냐. 일단 LightGBM이 나중에 만들어졌으니까 사이킷런 래퍼 XGBoost로 기준을 따라간다. 동일한게 있으면 LightGBM으로 간다.\n",
    "\n",
    "사이킷런 래퍼 XGBoost도 사실 사이킷런의 GBM 클래시파이어에 있는 하이퍼 파라미터를 가져왔으니까 그렇게 이해하면 편함.\n",
    "\n",
    "![warpperParam3](img/warpperParam3.png)\n"
   ]
  },
  {
   "cell_type": "code",
   "execution_count": 1,
   "metadata": {},
   "outputs": [
    {
     "name": "stdout",
     "output_type": "stream",
     "text": [
      "3.0.0\n"
     ]
    }
   ],
   "source": [
    "import lightgbm\n",
    "\n",
    "print(lightgbm.__version__)"
   ]
  },
  {
   "cell_type": "markdown",
   "metadata": {},
   "source": [
    "### LightGBM 적용 – 위스콘신 Breast Cancer Prediction"
   ]
  },
  {
   "cell_type": "code",
   "execution_count": 2,
   "metadata": {},
   "outputs": [
    {
     "name": "stdout",
     "output_type": "stream",
     "text": [
      "[1]\tvalid_0's binary_logloss: 0.565079\n",
      "Training until validation scores don't improve for 100 rounds\n",
      "[2]\tvalid_0's binary_logloss: 0.507451\n",
      "[3]\tvalid_0's binary_logloss: 0.458489\n",
      "[4]\tvalid_0's binary_logloss: 0.417481\n",
      "[5]\tvalid_0's binary_logloss: 0.385507\n",
      "[6]\tvalid_0's binary_logloss: 0.355773\n",
      "[7]\tvalid_0's binary_logloss: 0.329587\n",
      "[8]\tvalid_0's binary_logloss: 0.308478\n",
      "[9]\tvalid_0's binary_logloss: 0.285395\n",
      "[10]\tvalid_0's binary_logloss: 0.267055\n",
      "[11]\tvalid_0's binary_logloss: 0.252013\n",
      "[12]\tvalid_0's binary_logloss: 0.237018\n",
      "[13]\tvalid_0's binary_logloss: 0.224756\n",
      "[14]\tvalid_0's binary_logloss: 0.213383\n",
      "[15]\tvalid_0's binary_logloss: 0.203058\n",
      "[16]\tvalid_0's binary_logloss: 0.194015\n",
      "[17]\tvalid_0's binary_logloss: 0.186412\n",
      "[18]\tvalid_0's binary_logloss: 0.179108\n",
      "[19]\tvalid_0's binary_logloss: 0.174004\n",
      "[20]\tvalid_0's binary_logloss: 0.167155\n",
      "[21]\tvalid_0's binary_logloss: 0.162494\n",
      "[22]\tvalid_0's binary_logloss: 0.156886\n",
      "[23]\tvalid_0's binary_logloss: 0.152855\n",
      "[24]\tvalid_0's binary_logloss: 0.151113\n",
      "[25]\tvalid_0's binary_logloss: 0.148395\n",
      "[26]\tvalid_0's binary_logloss: 0.145869\n",
      "[27]\tvalid_0's binary_logloss: 0.143036\n",
      "[28]\tvalid_0's binary_logloss: 0.14033\n",
      "[29]\tvalid_0's binary_logloss: 0.139609\n",
      "[30]\tvalid_0's binary_logloss: 0.136109\n",
      "[31]\tvalid_0's binary_logloss: 0.134867\n",
      "[32]\tvalid_0's binary_logloss: 0.134729\n",
      "[33]\tvalid_0's binary_logloss: 0.1311\n",
      "[34]\tvalid_0's binary_logloss: 0.131143\n",
      "[35]\tvalid_0's binary_logloss: 0.129435\n",
      "[36]\tvalid_0's binary_logloss: 0.128474\n",
      "[37]\tvalid_0's binary_logloss: 0.126683\n",
      "[38]\tvalid_0's binary_logloss: 0.126112\n",
      "[39]\tvalid_0's binary_logloss: 0.122831\n",
      "[40]\tvalid_0's binary_logloss: 0.123162\n",
      "[41]\tvalid_0's binary_logloss: 0.125592\n",
      "[42]\tvalid_0's binary_logloss: 0.128293\n",
      "[43]\tvalid_0's binary_logloss: 0.128123\n",
      "[44]\tvalid_0's binary_logloss: 0.12789\n",
      "[45]\tvalid_0's binary_logloss: 0.122818\n",
      "[46]\tvalid_0's binary_logloss: 0.12496\n",
      "[47]\tvalid_0's binary_logloss: 0.125578\n",
      "[48]\tvalid_0's binary_logloss: 0.127381\n",
      "[49]\tvalid_0's binary_logloss: 0.128349\n",
      "[50]\tvalid_0's binary_logloss: 0.127004\n",
      "[51]\tvalid_0's binary_logloss: 0.130288\n",
      "[52]\tvalid_0's binary_logloss: 0.131362\n",
      "[53]\tvalid_0's binary_logloss: 0.133363\n",
      "[54]\tvalid_0's binary_logloss: 0.1332\n",
      "[55]\tvalid_0's binary_logloss: 0.134543\n",
      "[56]\tvalid_0's binary_logloss: 0.130803\n",
      "[57]\tvalid_0's binary_logloss: 0.130306\n",
      "[58]\tvalid_0's binary_logloss: 0.132514\n",
      "[59]\tvalid_0's binary_logloss: 0.133278\n",
      "[60]\tvalid_0's binary_logloss: 0.134804\n",
      "[61]\tvalid_0's binary_logloss: 0.136888\n",
      "[62]\tvalid_0's binary_logloss: 0.138745\n",
      "[63]\tvalid_0's binary_logloss: 0.140497\n",
      "[64]\tvalid_0's binary_logloss: 0.141368\n",
      "[65]\tvalid_0's binary_logloss: 0.140764\n",
      "[66]\tvalid_0's binary_logloss: 0.14348\n",
      "[67]\tvalid_0's binary_logloss: 0.143418\n",
      "[68]\tvalid_0's binary_logloss: 0.143682\n",
      "[69]\tvalid_0's binary_logloss: 0.145076\n",
      "[70]\tvalid_0's binary_logloss: 0.14686\n",
      "[71]\tvalid_0's binary_logloss: 0.148051\n",
      "[72]\tvalid_0's binary_logloss: 0.147664\n",
      "[73]\tvalid_0's binary_logloss: 0.149478\n",
      "[74]\tvalid_0's binary_logloss: 0.14708\n",
      "[75]\tvalid_0's binary_logloss: 0.14545\n",
      "[76]\tvalid_0's binary_logloss: 0.148767\n",
      "[77]\tvalid_0's binary_logloss: 0.149959\n",
      "[78]\tvalid_0's binary_logloss: 0.146083\n",
      "[79]\tvalid_0's binary_logloss: 0.14638\n",
      "[80]\tvalid_0's binary_logloss: 0.148461\n",
      "[81]\tvalid_0's binary_logloss: 0.15091\n",
      "[82]\tvalid_0's binary_logloss: 0.153011\n",
      "[83]\tvalid_0's binary_logloss: 0.154807\n",
      "[84]\tvalid_0's binary_logloss: 0.156501\n",
      "[85]\tvalid_0's binary_logloss: 0.158586\n",
      "[86]\tvalid_0's binary_logloss: 0.159819\n",
      "[87]\tvalid_0's binary_logloss: 0.161745\n",
      "[88]\tvalid_0's binary_logloss: 0.162829\n",
      "[89]\tvalid_0's binary_logloss: 0.159142\n",
      "[90]\tvalid_0's binary_logloss: 0.156765\n",
      "[91]\tvalid_0's binary_logloss: 0.158625\n",
      "[92]\tvalid_0's binary_logloss: 0.156832\n",
      "[93]\tvalid_0's binary_logloss: 0.154616\n",
      "[94]\tvalid_0's binary_logloss: 0.154263\n",
      "[95]\tvalid_0's binary_logloss: 0.157156\n",
      "[96]\tvalid_0's binary_logloss: 0.158617\n",
      "[97]\tvalid_0's binary_logloss: 0.157495\n",
      "[98]\tvalid_0's binary_logloss: 0.159413\n",
      "[99]\tvalid_0's binary_logloss: 0.15847\n",
      "[100]\tvalid_0's binary_logloss: 0.160746\n",
      "[101]\tvalid_0's binary_logloss: 0.16217\n",
      "[102]\tvalid_0's binary_logloss: 0.165293\n",
      "[103]\tvalid_0's binary_logloss: 0.164749\n",
      "[104]\tvalid_0's binary_logloss: 0.167097\n",
      "[105]\tvalid_0's binary_logloss: 0.167697\n",
      "[106]\tvalid_0's binary_logloss: 0.169462\n",
      "[107]\tvalid_0's binary_logloss: 0.169947\n",
      "[108]\tvalid_0's binary_logloss: 0.171\n",
      "[109]\tvalid_0's binary_logloss: 0.16907\n",
      "[110]\tvalid_0's binary_logloss: 0.169521\n",
      "[111]\tvalid_0's binary_logloss: 0.167719\n",
      "[112]\tvalid_0's binary_logloss: 0.166648\n",
      "[113]\tvalid_0's binary_logloss: 0.169053\n",
      "[114]\tvalid_0's binary_logloss: 0.169613\n",
      "[115]\tvalid_0's binary_logloss: 0.170059\n",
      "[116]\tvalid_0's binary_logloss: 0.1723\n",
      "[117]\tvalid_0's binary_logloss: 0.174733\n",
      "[118]\tvalid_0's binary_logloss: 0.173526\n",
      "[119]\tvalid_0's binary_logloss: 0.1751\n",
      "[120]\tvalid_0's binary_logloss: 0.178254\n",
      "[121]\tvalid_0's binary_logloss: 0.182968\n",
      "[122]\tvalid_0's binary_logloss: 0.179017\n",
      "[123]\tvalid_0's binary_logloss: 0.178326\n",
      "[124]\tvalid_0's binary_logloss: 0.177149\n",
      "[125]\tvalid_0's binary_logloss: 0.179171\n",
      "[126]\tvalid_0's binary_logloss: 0.180948\n",
      "[127]\tvalid_0's binary_logloss: 0.183861\n",
      "[128]\tvalid_0's binary_logloss: 0.187579\n",
      "[129]\tvalid_0's binary_logloss: 0.188122\n",
      "[130]\tvalid_0's binary_logloss: 0.1857\n",
      "[131]\tvalid_0's binary_logloss: 0.187442\n",
      "[132]\tvalid_0's binary_logloss: 0.188578\n",
      "[133]\tvalid_0's binary_logloss: 0.189729\n",
      "[134]\tvalid_0's binary_logloss: 0.187313\n",
      "[135]\tvalid_0's binary_logloss: 0.189279\n",
      "[136]\tvalid_0's binary_logloss: 0.191068\n",
      "[137]\tvalid_0's binary_logloss: 0.192414\n",
      "[138]\tvalid_0's binary_logloss: 0.191255\n",
      "[139]\tvalid_0's binary_logloss: 0.193453\n",
      "[140]\tvalid_0's binary_logloss: 0.196969\n",
      "[141]\tvalid_0's binary_logloss: 0.196378\n",
      "[142]\tvalid_0's binary_logloss: 0.196367\n",
      "[143]\tvalid_0's binary_logloss: 0.19869\n",
      "[144]\tvalid_0's binary_logloss: 0.200352\n",
      "[145]\tvalid_0's binary_logloss: 0.19712\n",
      "Early stopping, best iteration is:\n",
      "[45]\tvalid_0's binary_logloss: 0.122818\n"
     ]
    }
   ],
   "source": [
    "# LightGBM의 파이썬 패키지인 lightgbm에서 LGBMClassifier 임포트\n",
    "from lightgbm import LGBMClassifier\n",
    "\n",
    "import pandas as pd\n",
    "import numpy as np\n",
    "\n",
    "from sklearn.datasets import load_breast_cancer\n",
    "from sklearn.model_selection import train_test_split\n",
    "\n",
    "dataset = load_breast_cancer()\n",
    "ftr = dataset.data　#feature　데이터셋\n",
    "target = dataset.targets\n",
    "\n",
    "\n",
    "# 전체 데이터 중 80%는 학습용 데이터, 20%는 테스트용 데이터 추출\n",
    "X_train, X_test, y_train, y_test=train_test_split(ftr, target, test_size=0.2, random_state=156 )\n",
    "\n",
    "# 앞서 XGBoost와 동일하게 n_estimators는 400 설정. (n_estimators는 약한 학습기를 말함)\n",
    "lgbm_wrapper = LGBMClassifier(n_estimators=400)\n",
    "\n",
    "# LightGBM도 XGBoost와 동일하게 조기 중단 수행 가능. \n",
    "evals = [(X_test, y_test)]#eval 셋은 검증 데이터이기 때문에 테스트 데이터셋을 쓰면 안된다 원래는. 오버피팅 될 수 밖에 없다.\n",
    "lgbm_wrapper.fit(X_train, y_train, early_stopping_rounds=100, eval_metric=\"logloss\", \n",
    "                 eval_set=evals, verbose=True)\n",
    "\n",
    "preds = lgbm_wrapper.predict(X_test)\n",
    "pred_proba = lgbm_wrapper.predict_proba(X_test)[:, 1]"
   ]
  },
  {
   "cell_type": "code",
   "execution_count": 3,
   "metadata": {},
   "outputs": [],
   "source": [
    "from sklearn.metrics import confusion_matrix, accuracy_score\n",
    "from sklearn.metrics import precision_score, recall_score\n",
    "from sklearn.metrics import f1_score, roc_auc_score\n",
    "\n",
    "# 수정된 get_clf_eval() 함수 \n",
    "def get_clf_eval(y_test, pred=None, pred_proba=None):\n",
    "    confusion = confusion_matrix( y_test, pred)\n",
    "    accuracy = accuracy_score(y_test , pred)\n",
    "    precision = precision_score(y_test , pred)\n",
    "    recall = recall_score(y_test , pred)\n",
    "    f1 = f1_score(y_test,pred)\n",
    "    # ROC-AUC 추가 \n",
    "    roc_auc = roc_auc_score(y_test, pred_proba)\n",
    "    print('오차 행렬')\n",
    "    print(confusion)\n",
    "    # ROC-AUC print 추가\n",
    "    print('정확도: {0:.4f}, 정밀도: {1:.4f}, 재현율: {2:.4f},\\\n",
    "    F1: {3:.4f}, AUC:{4:.4f}'.format(accuracy, precision, recall, f1, roc_auc))"
   ]
  },
  {
   "cell_type": "code",
   "execution_count": 4,
   "metadata": {},
   "outputs": [
    {
     "name": "stdout",
     "output_type": "stream",
     "text": [
      "오차 행렬\n",
      "[[33  4]\n",
      " [ 1 76]]\n",
      "정확도: 0.9561, 정밀도: 0.9500, 재현율: 0.9870,    F1: 0.9682, AUC:0.9905\n"
     ]
    }
   ],
   "source": [
    "get_clf_eval(y_test, preds, pred_proba)"
   ]
  },
  {
   "cell_type": "code",
   "execution_count": 5,
   "metadata": {},
   "outputs": [
    {
     "data": {
      "text/plain": [
       "<matplotlib.axes._subplots.AxesSubplot at 0x22d36c3bb70>"
      ]
     },
     "execution_count": 5,
     "metadata": {},
     "output_type": "execute_result"
    },
    {
     "data": {
      "image/png": "[encoded data removed]",
      "text/plain": [
       "<Figure size 720x864 with 1 Axes>"
      ]
     },
     "metadata": {
      "needs_background": "light"
     },
     "output_type": "display_data"
    }
   ],
   "source": [
    "from lightgbm import plot_importance\n",
    "import matplotlib.pyplot as plt\n",
    "%matplotlib inline\n",
    "\n",
    "fig, ax = plt.subplots(figsize=(10, 12))\n",
    "# 사이킷런 래퍼 클래스를 입력해도 무방. \n",
    "plot_importance(lgbm_wrapper, ax=ax)"
   ]
  },
  {
   "cell_type": "code",
   "execution_count": 6,
   "metadata": {},
   "outputs": [
    {
     "name": "stdout",
     "output_type": "stream",
     "text": [
      "['mean radius' 'mean texture' 'mean perimeter' 'mean area'\n",
      " 'mean smoothness' 'mean compactness' 'mean concavity'\n",
      " 'mean concave points' 'mean symmetry' 'mean fractal dimension'\n",
      " 'radius error' 'texture error' 'perimeter error' 'area error'\n",
      " 'smoothness error' 'compactness error' 'concavity error'\n",
      " 'concave points error' 'symmetry error' 'fractal dimension error'\n",
      " 'worst radius' 'worst texture' 'worst perimeter' 'worst area'\n",
      " 'worst smoothness' 'worst compactness' 'worst concavity'\n",
      " 'worst concave points' 'worst symmetry' 'worst fractal dimension']\n"
     ]
    }
   ],
   "source": [
    "print(dataset.feature_names)"
   ]
  },
  {
   "cell_type": "code",
   "execution_count": null,
   "metadata": {},
   "outputs": [],
   "source": []
  }
 ],
 "metadata": {
  "kernelspec": {
   "display_name": "Python 3",
   "language": "python",
   "name": "python3"
  },
  "language_info": {
   "codemirror_mode": {
    "name": "ipython",
    "version": 3
   },
   "file_extension": ".py",
   "mimetype": "text/x-python",
   "name": "python",
   "nbconvert_exporter": "python",
   "pygments_lexer": "ipython3",
   "version": "3.7.1"
  }
 },
 "nbformat": 4,
 "nbformat_minor": 2
}
