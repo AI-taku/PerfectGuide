{
 "cells": [
  {
   "cell_type": "markdown",
   "metadata": {},
   "source": [
    "* 결정 트리와 결정 트리 기반의 앙상블  \n",
    "  - 결정트리는 쉽고 직관적이지만 쉽게 오버피팅이 될 수 있는 단점이 있다. 앙상블 기법은 이런 결정 트리의 단점을 약한 학습기 기반에서 수십, 수천개 만들어서 단점은 순화시키고 강점을 강화시키는 형태로 구성이 되어 있다.\n",
    "\n",
    "\n",
    "* 배깅과 부스팅  \n",
    "  - 앙상블의 가장 큰 유형 두가지: 랜덤 포레스트, GBM  \n",
    "    \n",
    "    \n",
    "* GBM의 기능을 더욱 향상 시킨 XGBoost, LightGBM\n",
    "  - GBM: Gradient Boosting Machine. 경사하강법을 이용해서 오류가 감소하는 방법으로 지속적으로 학습을 진행하는 것.\n",
    "  \n",
    "  \n",
    "* 스태킹 모델\n",
    "  - 앙상블과 유사하지만 큰 차이는, 각각의 개별 모델들이 학습을 해서 예측을 한 예측 값을 기반으로해서 최종적인 메타모델이 이 예측 값을 스태킹한 데이터 셋을 학습하고 예측하는 방법이다."
   ]
  }
 ],
 "metadata": {
  "kernelspec": {
   "display_name": "Python 3",
   "language": "python",
   "name": "python3"
  },
  "language_info": {
   "codemirror_mode": {
    "name": "ipython",
    "version": 3
   },
   "file_extension": ".py",
   "mimetype": "text/x-python",
   "name": "python",
   "nbconvert_exporter": "python",
   "pygments_lexer": "ipython3",
   "version": "3.7.1"
  }
 },
 "nbformat": 4,
 "nbformat_minor": 4
}
