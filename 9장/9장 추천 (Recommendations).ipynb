{
 "cells": [
  {
   "cell_type": "markdown",
   "metadata": {},
   "source": [
    "<h2>추천 시스템의 중요성</h2>\n",
    "\n",
    "추천 시스템은 e-commerce의 필수 요소이다. 그 중 가장 눈 여겨 볼 것은 유튜브의 추천 시스템이다.\n",
    "\n",
    "속된 말로 지독하다라고 할 정도로 클릭을 하지 않고서는 못베길만한. \n",
    "\n",
    "두가지 요소가 있다. 추천 알고리즘이 더 정교화해졌다, 사용자가 본 영상에 대해 수집이 잘되고 있다,\n",
    "\n",
    "그리고 유튜브의 컨텐츠가 너무 다양해졌다. 이것이 알고리즘에 대한 효율을 더 좋게하는 선순환을 이루는 것 같다.\n",
    "\n",
    "\n",
    "<img src=\"./img/ImpoRecom1.png\"/>"
   ]
  },
  {
   "cell_type": "markdown",
   "metadata": {},
   "source": [
    "<h2>사용자에게 맞춤 콘텐츠를 제공</h2>\n",
    "\n",
    "인터스텔라를 많이 틀었더니 인터스텔라 영화 감독이 한스짐머임. 한스짐머의 음악 취향하고 맞아떨어지는 것들이 많이 나온다.\n",
    "\n",
    "인셉션의 TIME이라던가. 한스 짐머가 아니어도 비슷한 음악 감성을 지니고 있는 OST를 추천을 해줌. \n",
    "\n",
    "특히 잘 몰랐던 좋은 음악들을 많이 추천 받았다.\n",
    "\n",
    "<img src=\"./img/UserContent1.png\"/>\n"
   ]
  },
  {
   "cell_type": "markdown",
   "metadata": {},
   "source": [
    "<h2>사용자에게 맞춤 콘텐츠를 제공</h2>\n",
    "\n",
    "아마존 같은 경우에는 추천으로 많이 옛날부터 유명했다. 굉장히 다양한 유형의 책들을 추천을 받아서 \n",
    "\n",
    "<img src=\"./img/UserContent2.png\"/>"
   ]
  },
  {
   "cell_type": "markdown",
   "metadata": {},
   "source": [
    "<h2>추천 엔진의 필요성</h2>\n",
    "\n",
    "E-commerce에서는 정말 많이 필요한 시스템이다. 너무 많은 상품으로 가득찬 온라인 스토어이므로.\n",
    "\n",
    "정규분포의 꼬리가 긴 (Long tale)것처럼. 그래서 롱테일이라고 하는데. 굉장히 많은 선택지를 줬더니\n",
    "\n",
    "사용자가 오히려 어떤 상품을 선택해야될지 모른다. 그래서 아예 5개, 6개로 줄여버렸더니 오히려 상품을 선택할 확률이 높아졌다함.\n",
    "\n",
    "<img src=\"./img/NecessaryRecom.png\"/>"
   ]
  },
  {
   "cell_type": "markdown",
   "metadata": {},
   "source": [
    "<h2>추천 엔진을 통한 사용자의 취향 저격</h2>\n",
    "\n",
    "온라인에서는 더 취향 저격하기 쉽다. 어떤 상품을 클릭했는지, 뭘봤는지, 뭘 구매했는지, 평점은 어떻게 줬는지 알기 너무 쉽다.\n",
    "\n",
    "오프라인에서는 평점을 주지 않으므로. 그래서 기업들이 이런 데이터를 많이 얻을 수 있게 많은 투자를 한다. \n",
    "\n",
    "사이트를 배치한다던가. 이런 데이터가 수집이 되면 데이터와 고객 정보를 취합해서 추천엔진이 당신만을 위한 상품이라던가.\n",
    "\n",
    "아니면 추천 엔진에서 흔하게 보는 '이 상품을 선택한 다른 사람들이 좋아하는 상품들' 등.\n",
    "\n",
    "<img src=\"./img/RecomUserTaste.png\"/>"
   ]
  },
  {
   "cell_type": "markdown",
   "metadata": {},
   "source": [
    "<h2>추천 시스템의 묘미</h2>\n",
    "\n",
    "나도 모르고 있었던 취향을 발견하는 것이다.\n",
    "\n",
    "아하!Moment가 생기게되면 추천 시스템에 신뢰가 높아지며 더 데이터를 가져다 주게 된다.\n",
    "\n",
    "<img src=\"./img/RecomBeauty.png\"/>"
   ]
  },
  {
   "cell_type": "markdown",
   "metadata": {},
   "source": [
    "<h2>추천이 지배하는 사회</h2>\n",
    "\n",
    "좋은 추천 시스템은 사용자가 거의 반사적으로 따라가는, 그런 신뢰도를 얻을 정도\n",
    "\n",
    "<img src=\"./img/DominantSociety.png\"/>"
   ]
  },
  {
   "cell_type": "markdown",
   "metadata": {},
   "source": [
    "<h2>추천 시스템 방식</h2>\n",
    "\n",
    "크게 나누면 두가지 방식으로 나눌 수 있다.\n",
    "\n",
    "1. 콘텐츠 기반 필터링(Content Based Filtering)\n",
    "\n",
    "가령 영화라고 한다면 영화의 장르, 감독, 배우 등과 개인의 취향이나 이런 것들을 반영을 해서\n",
    "\n",
    "아, 이 사람은 이 컨텐츠가 가지고 있는 요소에 맞겠구나 하고 추천해주는 것.\n",
    "\n",
    "2. 협업 필터링(Collaborative Filtering)\n",
    "\n",
    "나와 비슷한 사람이 선택한 상품을 선택하는 것. 즉 다른 사람의 의견을 듣는 것. 그래서 협업이라고 하는 것임.\n",
    "\n",
    "\n",
    "추천 시스템은  이 중 한가지 혹은 둘을 결합한 방식을 사용한다.\n",
    "\n",
    "<img src=\"./img/HowRecom.png\"/>"
   ]
  },
  {
   "cell_type": "markdown",
   "metadata": {},
   "source": [
    "<h2>하이브리드 기반 추천</h2>\n",
    "\n",
    "넷플릭스의 경우는 서비스를 시작한 시점부터 데이터에 대한 중요성을 진지하게 받아들이고 거기에 대해 굉장히 투자를 많이한 회사이다.\n",
    "\n",
    "그런데 요 근래에 보면 자사가 생성한 콘텐츠 위주로 치우치는 경향이 있다. 가중치를 준거라고 본다. 그거는 일반적일 수 밖에 없다.\n",
    "\n",
    "프로모션이 들어가면 100% 사용자의 취향에만 맞출 수 가 없으므로. \n",
    "\n",
    "그래서 그런 하이브리드 기반으로 추천이 되는게 보편적인 시스템을 구현한 기업들의 경향이다.\n",
    "\n",
    "<img src=\"./img/BasedHybrid.png\"/>"
   ]
  },
  {
   "cell_type": "markdown",
   "metadata": {},
   "source": []
  },
  {
   "cell_type": "code",
   "execution_count": null,
   "metadata": {},
   "outputs": [],
   "source": []
  },
  {
   "cell_type": "code",
   "execution_count": null,
   "metadata": {},
   "outputs": [],
   "source": []
  }
 ],
 "metadata": {
  "kernelspec": {
   "display_name": "Python 3",
   "language": "python",
   "name": "python3"
  },
  "language_info": {
   "codemirror_mode": {
    "name": "ipython",
    "version": 3
   },
   "file_extension": ".py",
   "mimetype": "text/x-python",
   "name": "python",
   "nbconvert_exporter": "python",
   "pygments_lexer": "ipython3",
   "version": "3.7.1"
  }
 },
 "nbformat": 4,
 "nbformat_minor": 4
}
